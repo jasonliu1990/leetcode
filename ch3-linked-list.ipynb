{
 "cells": [
  {
   "cell_type": "markdown",
   "metadata": {},
   "source": [
    "# Linked List"
   ]
  },
  {
   "cell_type": "markdown",
   "metadata": {},
   "source": [
    "### 常見操作\n",
    "* 新增: x = ListNode(val)\n",
    "* 插入:(插入在a與b之間)\n",
    "    - x.next = b\n",
    "    - a.next = x\n",
    "* 移除:(將 a -> x -> b的 x移除)\n",
    "    - a.next = b\n",
    "* 遍歷:\n",
    "```python\n",
    "    ite = head\n",
    "    while ite:\n",
    "        print(ite.val)\n",
    "        ite = ite.next\n",
    "```"
   ]
  },
  {
   "cell_type": "markdown",
   "metadata": {},
   "source": [
    "### 適用範圍\n",
    "* 較不在意單點存取\n",
    "* 需要新增節點成本較低時\n",
    "* 操作大多是在靠近開頭或結尾"
   ]
  },
  {
   "cell_type": "markdown",
   "metadata": {},
   "source": [
    "### 例題 1 : Remove Duplicates from Sorted List\n",
    "* leetcode 0083"
   ]
  },
  {
   "cell_type": "markdown",
   "metadata": {},
   "source": [
    "```\n",
    "Given the head of a sorted linked list, delete all duplicates such that each element appears only once. Return the linked list sorted as well.\n",
    "\n",
    "Example 1:\n",
    "\n",
    "Input: head =\n",
    "[1,1,2]\n",
    "Output: [1,2]\n",
    "```"
   ]
  },
  {
   "cell_type": "code",
   "execution_count": null,
   "metadata": {},
   "outputs": [],
   "source": [
    "def deleteDuplicates(self, head: ListNode) -> ListNode:\n",
    "    ite = head\n",
    "    while ite:\n",
    "        tmp = ite.next\n",
    "        while tmp and tmp.val == ite.val:\n",
    "            tmp = tmp.next\n",
    "        ite.next = tmp  \n",
    "        ite = ite.next\n",
    "\n",
    "    return head"
   ]
  },
  {
   "cell_type": "markdown",
   "metadata": {},
   "source": [
    "### 例題 2 : Merge Two Sorted Lists\n",
    "* leetcode 0021"
   ]
  },
  {
   "cell_type": "markdown",
   "metadata": {},
   "source": [
    "```\n",
    "Merge two sorted linked lists and return it as a sorted list. The list should be made by splicing together the nodes of the first two lists. \n",
    "\n",
    "Example 1:\n",
    "\n",
    "Input: l1 = [1,2,4], l2 = [1,3,4]\n",
    "Output: [1,1,2,3,4,4]\n",
    "```"
   ]
  },
  {
   "cell_type": "code",
   "execution_count": null,
   "metadata": {},
   "outputs": [],
   "source": [
    "def mergeTwoLists(self, l1: ListNode, l2: ListNode) -> ListNode:\n",
    "    dummy = ListNode(None)\n",
    "    prev = dummy\n",
    "    while l1 and l2:\n",
    "        if l1.val <= l2.val:\n",
    "            prev.next = l1\n",
    "            l1 = l1.next\n",
    "        else:\n",
    "            prev.next = l2\n",
    "            l2 = l2.next\n",
    "        prev = prev.next\n",
    "    prev.next = l1 or l2\n",
    "    return dummy.next"
   ]
  },
  {
   "cell_type": "code",
   "execution_count": null,
   "metadata": {},
   "outputs": [],
   "source": []
  }
 ],
 "metadata": {
  "kernelspec": {
   "display_name": "Python 3",
   "language": "python",
   "name": "python3"
  },
  "language_info": {
   "codemirror_mode": {
    "name": "ipython",
    "version": 3
   },
   "file_extension": ".py",
   "mimetype": "text/x-python",
   "name": "python",
   "nbconvert_exporter": "python",
   "pygments_lexer": "ipython3",
   "version": "3.7.6"
  }
 },
 "nbformat": 4,
 "nbformat_minor": 4
}
