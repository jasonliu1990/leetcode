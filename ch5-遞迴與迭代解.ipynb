{
 "cells": [
  {
   "cell_type": "markdown",
   "metadata": {},
   "source": [
    "# 遞迴與迭代解"
   ]
  },
  {
   "cell_type": "markdown",
   "metadata": {},
   "source": [
    "### 例題 1 : Symmetric Tree\n",
    "* leetcode 0101"
   ]
  },
  {
   "cell_type": "markdown",
   "metadata": {},
   "source": [
    "```\n",
    "Given the root of a binary tree, check whether it is a mirror of itself (i.e., symmetric around its center).\n",
    "\n",
    "Example 1:\n",
    "\n",
    "Input: root = [1,2,2,3,4,4,3]\n",
    "Output: true\n",
    "```"
   ]
  },
  {
   "cell_type": "code",
   "execution_count": null,
   "metadata": {},
   "outputs": [],
   "source": [
    "# 遞迴解\n",
    "def isSymmetric(self, root: TreeNode) -> bool:\n",
    "    if not root:\n",
    "        return True\n",
    "    return self.isSym(root.left, root.right)\n",
    "def isSym(self, l, r):\n",
    "    if not l and not r:\n",
    "        return True\n",
    "    if not l or not r:\n",
    "        return False\n",
    "    if l.val != r.val:\n",
    "        return False\n",
    "    return self.isSym(l.left, r.right) and self.isSym(l.right, r.left)"
   ]
  },
  {
   "cell_type": "code",
   "execution_count": null,
   "metadata": {},
   "outputs": [],
   "source": [
    "# 遞迴解\n",
    "def isSymmetric(self, root: TreeNode) -> bool:\n",
    "    if not root:\n",
    "        return True\n",
    "    q = deque([(root.left, root.right)])\n",
    "    while q:\n",
    "        l, r = q.popleft()\n",
    "        if not l and not r:\n",
    "            continue\n",
    "        if l and r and l.val == r.val:\n",
    "            q.append((l.left, r.right))\n",
    "            q.append((l.right, r.left))\n",
    "        else:\n",
    "            return False\n",
    "    return True\n"
   ]
  },
  {
   "cell_type": "markdown",
   "metadata": {},
   "source": [
    "### 例題 2 : Merge Two Binary Trees\n",
    "* leetcode 0617"
   ]
  },
  {
   "cell_type": "markdown",
   "metadata": {},
   "source": [
    "```\n",
    "You are given two binary trees root1 and root2.\n",
    "\n",
    "Imagine that when you put one of them to cover the other, some nodes of the two trees are overlapped while the others are not. You need to merge the two trees into a new binary tree. The merge rule is that if two nodes overlap, then sum node values up as the new value of the merged node. Otherwise, the NOT null node will be used as the node of the new tree.\n",
    "\n",
    "Return the merged tree.\n",
    "\n",
    "Note: The merging process must start from the root nodes of both trees.\n",
    "\n",
    "Example 1:\n",
    "\n",
    "Input: root1 = [1,3,2,5], root2 = [2,1,3,null,4,null,7]\n",
    "Output: [3,4,5,5,4,null,7]\n",
    "```"
   ]
  },
  {
   "cell_type": "code",
   "execution_count": null,
   "metadata": {},
   "outputs": [],
   "source": [
    "def mergeTrees(self, t1: TreeNode, t2: TreeNode) -> TreeNode:\n",
    "    if not t1 and not t2:\n",
    "        return None\n",
    "    if not t1 or not t2:\n",
    "        return t1 or t2        \n",
    "    t1.val += t2.val\n",
    "    t1.left = self.mergeTrees(t1.left, t2.left)\n",
    "    t1.right = self.mergeTrees(t1.right, t2.right)\n",
    "    return t1"
   ]
  },
  {
   "cell_type": "code",
   "execution_count": null,
   "metadata": {},
   "outputs": [],
   "source": []
  },
  {
   "cell_type": "code",
   "execution_count": null,
   "metadata": {},
   "outputs": [],
   "source": []
  },
  {
   "cell_type": "code",
   "execution_count": null,
   "metadata": {},
   "outputs": [],
   "source": []
  },
  {
   "cell_type": "code",
   "execution_count": null,
   "metadata": {},
   "outputs": [],
   "source": []
  }
 ],
 "metadata": {
  "kernelspec": {
   "display_name": "Python 3",
   "language": "python",
   "name": "python3"
  },
  "language_info": {
   "codemirror_mode": {
    "name": "ipython",
    "version": 3
   },
   "file_extension": ".py",
   "mimetype": "text/x-python",
   "name": "python",
   "nbconvert_exporter": "python",
   "pygments_lexer": "ipython3",
   "version": "3.7.6"
  }
 },
 "nbformat": 4,
 "nbformat_minor": 4
}
