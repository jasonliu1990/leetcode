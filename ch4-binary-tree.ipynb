{
 "cells": [
  {
   "cell_type": "markdown",
   "metadata": {},
   "source": [
    "# Binary Tree"
   ]
  },
  {
   "cell_type": "markdown",
   "metadata": {},
   "source": [
    "* 單位: node(節點)\n",
    "* 根/左/右(root/left/right)節點\n",
    "* 每個節點均有值\n",
    "* 每個節點均有左右節點\n",
    "* NIL(None/null) 空節點\n",
    "* 左子樹/右子樹(subtree)"
   ]
  },
  {
   "cell_type": "markdown",
   "metadata": {},
   "source": [
    "### 適用範圍\n",
    "* 樹拆分僅兩個方向時\n",
    "* 二元搜尋樹的前置\n",
    "* 不在乎大小關係時"
   ]
  },
  {
   "cell_type": "markdown",
   "metadata": {},
   "source": [
    "### 遞迴 Recursion\n",
    "* 透過不斷呼叫相同的涵式，將問題化簡最終得到答案的方法\n",
    "* 要有確定狀況的條件及前後連結的關係\n",
    "* n + (n-1) + (n-2) + ... + 1?\n",
    "``` python\n",
    "def sumN(n):\n",
    "    if n == 1: # 確定狀況的條件,不然會一直往下減\n",
    "        return 1\n",
    "    else:\n",
    "        return n + sumN(n-1)\n",
    "```\n",
    "    "
   ]
  },
  {
   "cell_type": "markdown",
   "metadata": {},
   "source": [
    "### 例題 1 : Same Tree\n",
    "* leetcode 0100"
   ]
  },
  {
   "cell_type": "markdown",
   "metadata": {},
   "source": [
    "```\n",
    "Given the roots of two binary trees p and q, write a function to check if they are the same or not.\n",
    "Two binary trees are considered the same if they are structurally identical, and the nodes have the same value.\n",
    "\n",
    "Example 1:\n",
    "\n",
    "Input: p = [1,2,3], q = [1,2,3]\n",
    "Output: true\n",
    "```"
   ]
  },
  {
   "cell_type": "code",
   "execution_count": null,
   "metadata": {},
   "outputs": [],
   "source": [
    "def isSameTree(self, p: TreeNode, q: TreeNode) -> bool:\n",
    "    if not p and not q:\n",
    "        return True\n",
    "    if not p or not q:\n",
    "        return False\n",
    "\n",
    "    return p.val == q.val and \\\n",
    "           self.isSameTree(p.right, q.right) and \\\n",
    "           self.isSameTree(p.left, q.left)\n"
   ]
  },
  {
   "cell_type": "markdown",
   "metadata": {},
   "source": [
    "### 例題 2 : Balanced Binary Tree\n",
    "* leetcode 0110"
   ]
  },
  {
   "cell_type": "markdown",
   "metadata": {},
   "source": [
    "```\n",
    "Given a binary tree, determine if it is height-balanced.\n",
    "For this problem, a height-balanced binary tree is defined as:\n",
    "\n",
    "a binary tree in which the left and right subtrees of every node differ in height by no more than 1.\n",
    "\n",
    "Example 1:\n",
    "\n",
    "Input: root = [3,9,20,null,null,15,7]\n",
    "Output: true\n",
    "```"
   ]
  },
  {
   "cell_type": "markdown",
   "metadata": {},
   "source": [
    "### 平衡二元樹\n",
    "* 左右子樹深度相差1以內，且左右子樹都是平衡二元數"
   ]
  },
  {
   "cell_type": "code",
   "execution_count": null,
   "metadata": {},
   "outputs": [],
   "source": [
    "def isBalanced(self, root: TreeNode) -> bool:\n",
    "    def check(root: TreeNode) -> int:\n",
    "        if root is None:\n",
    "            return 0\n",
    "        l = check(root.left)\n",
    "        r = check(root.right)\n",
    "        if l == -1 or r == -1 or abs(l - r) > 1:\n",
    "            return -1\n",
    "\n",
    "        return 1 + max(l, r)\n",
    "\n",
    "    return check(root) != -1"
   ]
  },
  {
   "cell_type": "code",
   "execution_count": null,
   "metadata": {},
   "outputs": [],
   "source": []
  }
 ],
 "metadata": {
  "kernelspec": {
   "display_name": "Python 3",
   "language": "python",
   "name": "python3"
  },
  "language_info": {
   "codemirror_mode": {
    "name": "ipython",
    "version": 3
   },
   "file_extension": ".py",
   "mimetype": "text/x-python",
   "name": "python",
   "nbconvert_exporter": "python",
   "pygments_lexer": "ipython3",
   "version": "3.7.6"
  }
 },
 "nbformat": 4,
 "nbformat_minor": 4
}
